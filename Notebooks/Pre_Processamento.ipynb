{
 "cells": [
  {
   "cell_type": "code",
   "execution_count": 1,
   "id": "18cceea7-3c68-4667-bcd9-8a3d3eaeb894",
   "metadata": {},
   "outputs": [],
   "source": [
    "import pandas as pd\n",
    "from sklearn.preprocessing import LabelEncoder"
   ]
  },
  {
   "cell_type": "code",
   "execution_count": 2,
   "id": "97651ae0-1fc6-42ef-b967-befc14b73693",
   "metadata": {},
   "outputs": [],
   "source": [
    "# Loading dataset\n",
    "file_path = \"../Dados/wfp_food_prices_moz.csv\"\n",
    "dados = pd.read_csv(file_path)"
   ]
  },
  {
   "cell_type": "code",
   "execution_count": 3,
   "id": "2f501c5a-8596-42f4-90ea-5c6021a61eeb",
   "metadata": {},
   "outputs": [],
   "source": [
    "# Creating date column\n",
    "dados['date'] = pd.to_datetime(dados['year'].astype(str) + '-' + dados['month'].astype(str) + '-01')"
   ]
  },
  {
   "cell_type": "code",
   "execution_count": 4,
   "id": "1c68d7b7-bd52-4abd-bf7a-439f18a72436",
   "metadata": {},
   "outputs": [],
   "source": [
    "# Ordering by date\n",
    "dados = dados.sort_values('date')"
   ]
  },
  {
   "cell_type": "code",
   "execution_count": 5,
   "id": "83a5dec8-d5bc-4c49-8ce0-295d6e0f7c28",
   "metadata": {},
   "outputs": [],
   "source": [
    "# Removing columns that will not be directly used\n",
    "colunas_para_manter = [ 'province', 'district', 'market', 'category', 'commodity', 'unit', \n",
    "    'pricetype', 'price(MZN)', 'date' ]\n",
    "dados = dados[colunas_para_manter]"
   ]
  },
  {
   "cell_type": "code",
   "execution_count": 6,
   "id": "6e27c502-441e-4771-9649-89e47b63ef3a",
   "metadata": {},
   "outputs": [],
   "source": [
    "# Remove lines with null price\n",
    "dados = dados.dropna(subset=['price(MZN)'])"
   ]
  },
  {
   "cell_type": "code",
   "execution_count": 7,
   "id": "b06a666a-1f68-4909-b755-8807211863f6",
   "metadata": {},
   "outputs": [],
   "source": [
    "# Encode categorical variables \n",
    "label_cols = ['province', 'district', 'market', 'category', 'commodity', 'unit', 'pricetype']\n",
    "label_encoders = {}\n",
    "\n",
    "for col in label_cols:\n",
    "    le = LabelEncoder()\n",
    "    dados[col] = le.fit_transform(dados[col].astype(str))\n",
    "    label_encoders[col] = le  # save encoder for future use"
   ]
  },
  {
   "cell_type": "code",
   "execution_count": 8,
   "id": "ab4f234a-2f00-4c6f-a57f-f6af75b5f4b1",
   "metadata": {},
   "outputs": [],
   "source": [
    "# Creating adicional features\n",
    "# Ex: month, year, time trend\n",
    "\n",
    "dados['month'] = dados['date'].dt.month\n",
    "dados['year'] = dados['date'].dt.year"
   ]
  },
  {
   "cell_type": "code",
   "execution_count": 9,
   "id": "f56c07e8-78fe-45ae-87d9-8edb2f592021",
   "metadata": {},
   "outputs": [],
   "source": [
    "# Feature: number os months since start \n",
    "dados['month_id'] = (dados['year'] - dados['year'].min()) * 12 + dados['month']"
   ]
  },
  {
   "cell_type": "code",
   "execution_count": 11,
   "id": "c3c4ab59-689b-443d-be83-963a4bad48ce",
   "metadata": {},
   "outputs": [
    {
     "name": "stdout",
     "output_type": "stream",
     "text": [
      "   province  district  market  category  commodity  unit  pricetype  \\\n",
      "0         5        22      51         0         27     4          0   \n",
      "1         1        16      21         0         27     4          0   \n",
      "2         1        16      21         0         27     4          0   \n",
      "3         5        22      51         0         27     4          0   \n",
      "4         2        53      57         0         27     4          0   \n",
      "\n",
      "   price(MZN)       date  month  year  month_id  \n",
      "0        1.34 1992-11-01     11  1992        11  \n",
      "1        1.53 1992-12-01     12  1992        12  \n",
      "2        1.67 1993-01-01      1  1993        13  \n",
      "3        1.86 1993-01-01      1  1993        13  \n",
      "4        2.72 1993-02-01      2  1993        14  \n",
      "\n",
      "Colunas disponíveis para modelagem: ['province', 'district', 'market', 'category', 'commodity', 'unit', 'pricetype', 'price(MZN)', 'date', 'month', 'year', 'month_id']\n"
     ]
    }
   ],
   "source": [
    "# Visualize prepared data\n",
    "print(dados.head())\n",
    "print(\"\\nColunas disponíveis para modelagem:\", dados.columns.tolist())"
   ]
  },
  {
   "cell_type": "code",
   "execution_count": null,
   "id": "d8335b20-704e-4f54-8196-0378f8a34ea3",
   "metadata": {},
   "outputs": [],
   "source": []
  }
 ],
 "metadata": {
  "kernelspec": {
   "display_name": "Python 3 (ipykernel)",
   "language": "python",
   "name": "python3"
  },
  "language_info": {
   "codemirror_mode": {
    "name": "ipython",
    "version": 3
   },
   "file_extension": ".py",
   "mimetype": "text/x-python",
   "name": "python",
   "nbconvert_exporter": "python",
   "pygments_lexer": "ipython3",
   "version": "3.13.5"
  }
 },
 "nbformat": 4,
 "nbformat_minor": 5
}
